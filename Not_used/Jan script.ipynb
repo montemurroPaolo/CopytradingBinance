{
 "cells": [
  {
   "cell_type": "code",
   "execution_count": 10,
   "id": "0e65de10-bcc0-4fab-88b9-3561b14cd14d",
   "metadata": {},
   "outputs": [
    {
     "data": {
      "text/plain": [
       "{'BTC-LSK': -0.12843930635838158,\n",
       " 'BTC-NKN': -0.04982618771726546,\n",
       " 'BTC-WAVES': -0.037673207911841276,\n",
       " 'BTC-XEM': -0.02743142144638399,\n",
       " 'BTC-ZIL': -0.021367521367521344,\n",
       " 'BTC-OGN': -0.014598540145985417,\n",
       " 'BTC-STMX': -0.014084507042253535,\n",
       " 'BTC-STEEM': -0.013254786450662737,\n",
       " 'BTC-AERGO': -0.012638230647709333,\n",
       " 'BTC-ARK': -0.012006861063464764,\n",
       " 'BTC-SNT': -0.010101010101010218,\n",
       " 'BTC-POWR': 0.010356731875719314,\n",
       " 'BTC-DOT': 0.012455871577965886,\n",
       " 'BTC-MANA': 0.014277555682467122,\n",
       " 'BTC-ARDR': 0.020979020979021015,\n",
       " 'BTC-CVC': 0.02169811320754712,\n",
       " 'BTC-SC': 0.02564102564102553,\n",
       " 'BTC-ELF': 0.05017182130584191}"
      ]
     },
     "execution_count": 10,
     "metadata": {},
     "output_type": "execute_result"
    }
   ],
   "source": [
    "import pyupbit\n",
    "import ccxt\n",
    "\n",
    "exchange = ccxt.binance()\n",
    "tickers_up = (pyupbit.get_tickers(fiat=\"BTC\"))\n",
    "oppos = {}\n",
    "\n",
    "c_price = (pyupbit.get_current_price(tickers_up))\n",
    "for pair in c_price:\n",
    "    bin_pair = pair[4:]+'BTC'\n",
    "    try:\n",
    "        bin_price = exchange.fetch_ticker(bin_pair)\n",
    "    except:\n",
    "        continue\n",
    "    difference = float((bin_price['close']-c_price[pair])/c_price[pair])\n",
    "    if difference > 0.01 or difference < -0.01 and difference != -1.0:\n",
    "        oppos[str(pair)] = float((bin_price['close']-c_price[pair])/c_price[pair])\n",
    "dict(sorted(oppos.items(), key=lambda item: item[1]))"
   ]
  },
  {
   "cell_type": "code",
   "execution_count": null,
   "id": "d18a9d8b-3612-482f-a5a2-eb02d2008e59",
   "metadata": {},
   "outputs": [],
   "source": []
  }
 ],
 "metadata": {
  "kernelspec": {
   "display_name": "Python 3",
   "language": "python",
   "name": "python3"
  },
  "language_info": {
   "codemirror_mode": {
    "name": "ipython",
    "version": 3
   },
   "file_extension": ".py",
   "mimetype": "text/x-python",
   "name": "python",
   "nbconvert_exporter": "python",
   "pygments_lexer": "ipython3",
   "version": "3.8.8"
  }
 },
 "nbformat": 4,
 "nbformat_minor": 5
}
